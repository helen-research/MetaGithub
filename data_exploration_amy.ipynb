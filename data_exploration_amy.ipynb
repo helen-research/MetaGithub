{
 "cells": [
  {
   "cell_type": "code",
   "execution_count": 12,
   "metadata": {},
   "outputs": [],
   "source": [
    "import json\n",
    "import pandas as pd\n",
    "import gzip\n",
    "import os\n",
    "from collections import Counter\n",
    "from github import Github\n",
    "import datetime"
   ]
  },
  {
   "cell_type": "code",
   "execution_count": 10,
   "metadata": {
    "collapsed": true
   },
   "outputs": [],
   "source": [
    "events = []\n",
    "# File from: wget http://data.gharchive.org/2018-07-06-{0..23}.json.gz\n",
    "# i.e. archive for 24 hours on 7/16/18\n",
    "for hour in range(0, 24):\n",
    "    with gzip.open('/Users/amy/git/MetaGithub/data/2018-07-16-%d.json.gz' %hour) as f:\n",
    "        for line in f:\n",
    "            events.append(json.loads(line.strip()))"
   ]
  },
  {
   "cell_type": "code",
   "execution_count": 11,
   "metadata": {},
   "outputs": [
    {
     "data": {
      "text/plain": [
       "Counter({'CommitCommentEvent': 2262,\n",
       "         'CreateEvent': 183861,\n",
       "         'DeleteEvent': 30330,\n",
       "         'ForkEvent': 38550,\n",
       "         'GollumEvent': 6843,\n",
       "         'IssueCommentEvent': 93487,\n",
       "         'IssuesEvent': 48759,\n",
       "         'MemberEvent': 6089,\n",
       "         'PublicEvent': 1402,\n",
       "         'PullRequestEvent': 81249,\n",
       "         'PullRequestReviewCommentEvent': 29417,\n",
       "         'PushEvent': 698124,\n",
       "         'ReleaseEvent': 5771,\n",
       "         'WatchEvent': 107964})"
      ]
     },
     "execution_count": 11,
     "metadata": {},
     "output_type": "execute_result"
    }
   ],
   "source": [
    "Counter((event['type'] for event in events))"
   ]
  },
  {
   "cell_type": "code",
   "execution_count": 69,
   "metadata": {
    "collapsed": true
   },
   "outputs": [],
   "source": [
    "events[0];"
   ]
  },
  {
   "cell_type": "code",
   "execution_count": 13,
   "metadata": {
    "collapsed": true
   },
   "outputs": [],
   "source": [
    "# get all watch events\n",
    "# The WatchEvent is related to starring a repository, not watching. \n",
    "starred = [event for event in events if event['type'] == 'WatchEvent']\n",
    "\n",
    "# count how many times each repo was starred during this time\n",
    "# maps repo name --> count of star event\n",
    "repo2count = {}\n",
    "\n",
    "for s in starred:\n",
    "    repo_name = s['repo']['name']\n",
    "    \n",
    "    if repo_name not in repo2count:\n",
    "        repo2count[repo_name] = 1\n",
    "    else:\n",
    "        repo2count[repo_name] += 1\n"
   ]
  },
  {
   "cell_type": "code",
   "execution_count": 103,
   "metadata": {},
   "outputs": [
    {
     "data": {
      "text/plain": [
       "2"
      ]
     },
     "execution_count": 103,
     "metadata": {},
     "output_type": "execute_result"
    }
   ],
   "source": [
    "# record the names of repos that were starred more than k times during this time\n",
    "popular_repos = []\n",
    "k = 1000\n",
    "\n",
    "for repo_name in repo2count:\n",
    "    if repo2count[repo_name] > k:\n",
    "        popular_repos.append(repo_name)\n",
    "        \n",
    "len(popular_repos)"
   ]
  },
  {
   "cell_type": "code",
   "execution_count": 106,
   "metadata": {},
   "outputs": [],
   "source": [
    "# for each popular repo, count the number of (+1, -1, laugh, confused, heart, hooray, no_reaction, num_issues) on issues\n",
    "\n",
    "# github object using my personal access token\n",
    "g = Github('dc346ff7262b4b55dcc8ea6abe35c9c3170d415b')\n",
    "\n",
    "# map repo name --> counts of [+1, -1, laugh, confused, heart, hooray, no_reaction, num_issues]\n",
    "repo2info = {}\n",
    "my_date = datetime.datetime(year = 2018, month = 6, day = 1) # starting time from which to collect data \n",
    "\n",
    "for repo_name in popular_repos:\n",
    "    \n",
    "    # get the repository\n",
    "    repo = g.get_repo(repo_name)\n",
    "    \n",
    "    # get the issues for this repository\n",
    "    issues = repo.get_issues(since = my_date)\n",
    "    \n",
    "    # initialize count dictionary for this repo\n",
    "    repo2info[repo_name] = {'+1':0, '-1':0, 'laugh':0, 'confused':0, 'heart':0, 'hooray':0, 'no_reaction': 0, 'num_issues':0}\n",
    "\n",
    "    # for each issue, get reactions\n",
    "    for issue in issues:\n",
    "        \n",
    "        info = repo2info[repo_name]\n",
    "        \n",
    "        # get reactions for this repo\n",
    "        reactions = issue.get_reactions()\n",
    "        \n",
    "        # count each reaction\n",
    "        for r in reactions:\n",
    "            info[r.content] += 1\n",
    "            \n",
    "        # no reactions found\n",
    "        if len(reactions._PaginatedListBase__elements) == 0:\n",
    "            info['no_reaction'] += 1\n",
    "            \n",
    "        # increment number of issues \n",
    "        info['num_issues'] += 1\n",
    "\n",
    "            "
   ]
  },
  {
   "cell_type": "code",
   "execution_count": 107,
   "metadata": {},
   "outputs": [
    {
     "data": {
      "text/plain": [
       "{'KieSun/InterviewMap': {'+1': 3,\n",
       "  '-1': 0,\n",
       "  'confused': 0,\n",
       "  'heart': 0,\n",
       "  'hooray': 0,\n",
       "  'laugh': 0,\n",
       "  'no_reaction': 7,\n",
       "  'num_issues': 10},\n",
       " 'donnemartin/system-design-primer': {'+1': 26,\n",
       "  '-1': 0,\n",
       "  'confused': 0,\n",
       "  'heart': 0,\n",
       "  'hooray': 0,\n",
       "  'laugh': 0,\n",
       "  'no_reaction': 11,\n",
       "  'num_issues': 18}}"
      ]
     },
     "execution_count": 107,
     "metadata": {},
     "output_type": "execute_result"
    }
   ],
   "source": [
    "repo2info"
   ]
  },
  {
   "cell_type": "code",
   "execution_count": 66,
   "metadata": {},
   "outputs": [],
   "source": []
  }
 ],
 "metadata": {
  "kernelspec": {
   "display_name": "Python 3",
   "language": "python",
   "name": "python3"
  },
  "language_info": {
   "codemirror_mode": {
    "name": "ipython",
    "version": 3
   },
   "file_extension": ".py",
   "mimetype": "text/x-python",
   "name": "python",
   "nbconvert_exporter": "python",
   "pygments_lexer": "ipython3",
   "version": "3.6.3"
  }
 },
 "nbformat": 4,
 "nbformat_minor": 2
}
