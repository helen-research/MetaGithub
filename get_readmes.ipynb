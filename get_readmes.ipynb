{
 "cells": [
  {
   "cell_type": "code",
   "execution_count": 1,
   "metadata": {},
   "outputs": [],
   "source": [
    "import json\n",
    "import pandas as pd\n",
    "import gzip\n",
    "import numpy as np\n",
    "from sklearn.externals import joblib\n",
    "from github import Github\n",
    "import gensim\n",
    "from langdetect import detect\n",
    "from collections import Counter"
   ]
  },
  {
   "cell_type": "code",
   "execution_count": 2,
   "metadata": {},
   "outputs": [],
   "source": [
    "# load toy example\n",
    "# File from: wget http://data.gharchive.org/2018-07-16-15.json.gz\n",
    "\n",
    "events = []\n",
    "for hour in range(15, 16):\n",
    "    with gzip.open('/Users/amy/git/MetaGithub/data/2018-07-16-%d.json.gz' %hour) as f:\n",
    "        for line in f:\n",
    "            events.append(json.loads(line.strip()))"
   ]
  },
  {
   "cell_type": "code",
   "execution_count": 3,
   "metadata": {},
   "outputs": [],
   "source": [
    "# get all watch events\n",
    "# The WatchEvent corresponds to starring a repository, not watching. \n",
    "starred = [event for event in events if event['type'] == 'WatchEvent']\n",
    "\n",
    "# count how many times each repo was starred during this time\n",
    "# maps repo name to count of star events\n",
    "repo2count = {}\n",
    "\n",
    "for event in starred:\n",
    "    \n",
    "    repo_name = event['repo']['name']\n",
    "    \n",
    "    if repo_name not in repo2count:\n",
    "        repo2count[repo_name] = 1\n",
    "    else:\n",
    "        repo2count[repo_name] += 1\n"
   ]
  },
  {
   "cell_type": "code",
   "execution_count": 4,
   "metadata": {},
   "outputs": [
    {
     "data": {
      "text/plain": [
       "55"
      ]
     },
     "execution_count": 4,
     "metadata": {},
     "output_type": "execute_result"
    }
   ],
   "source": [
    "# record the names of repos that were starred more than k times during this time\n",
    "# i.e. get popular repos during this time period\n",
    "# we can change this code to find the top xx repos instead, etc.\n",
    "\n",
    "popular_repos = []\n",
    "k = 10 # this was chosen arbitrarily \n",
    "\n",
    "for repo_name in repo2count:\n",
    "    if repo2count[repo_name] > k:\n",
    "        popular_repos.append(repo_name)\n",
    "        \n",
    "len(popular_repos)"
   ]
  },
  {
   "cell_type": "code",
   "execution_count": 6,
   "metadata": {},
   "outputs": [],
   "source": [
    "# github object using my personal access token\n",
    "g = Github('dc346ff7262b4b55dcc8ea6abe35c9c3170d415b')\n",
    "\n",
    "readme_files = []\n",
    "langs = [] # language of readmes\n",
    "\n",
    "# for each popular repo\n",
    "for repo_name in popular_repos:\n",
    "    \n",
    "    # get the repository\n",
    "    repo = g.get_repo(repo_name)\n",
    "    \n",
    "    # get the readme file (Shaun's code)\n",
    "    try:\n",
    "        readMe = repo.get_contents('README.md')\n",
    "        readMe = readMe.decoded_content\n",
    "        readMe = readMe.decode(\"utf-8\")\n",
    "        readme_files.append(readMe)\n",
    "        lang = detect(readMe)\n",
    "        langs.append(lang)\n",
    "    except:\n",
    "        readMe =\"No README.md found.\"\n",
    "        readme_files.append(readMe)\n",
    "        lang = detect(readMe)\n",
    "        langs.append(lang)\n",
    "\n",
    "\n"
   ]
  },
  {
   "cell_type": "code",
   "execution_count": 10,
   "metadata": {},
   "outputs": [
    {
     "data": {
      "text/plain": [
       "True"
      ]
     },
     "execution_count": 10,
     "metadata": {},
     "output_type": "execute_result"
    }
   ],
   "source": [
    "# check length \n",
    "len(popular_repos) == len(readme_files)"
   ]
  },
  {
   "cell_type": "code",
   "execution_count": null,
   "metadata": {},
   "outputs": [],
   "source": []
  }
 ],
 "metadata": {
  "kernelspec": {
   "display_name": "Python 3",
   "language": "python",
   "name": "python3"
  },
  "language_info": {
   "codemirror_mode": {
    "name": "ipython",
    "version": 3
   },
   "file_extension": ".py",
   "mimetype": "text/x-python",
   "name": "python",
   "nbconvert_exporter": "python",
   "pygments_lexer": "ipython3",
   "version": "3.6.3"
  }
 },
 "nbformat": 4,
 "nbformat_minor": 2
}
