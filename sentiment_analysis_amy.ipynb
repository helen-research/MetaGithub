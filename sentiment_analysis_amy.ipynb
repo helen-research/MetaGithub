{
 "cells": [
  {
   "cell_type": "code",
   "execution_count": 36,
   "metadata": {},
   "outputs": [],
   "source": [
    "import json\n",
    "import gzip\n",
    "import os\n",
    "from collections import Counter\n",
    "import datetime\n",
    "import pickle\n",
    "import sys\n",
    "import pandas as pd\n",
    "from pycorenlp import StanfordCoreNLP\n",
    "import numpy as np\n",
    "import random"
   ]
  },
  {
   "cell_type": "code",
   "execution_count": 37,
   "metadata": {},
   "outputs": [],
   "source": [
    "## read JSON data\n",
    "# change the file path accordingly\n",
    "# test data: file from wget http://data.gharchive.org/2018-07-16-15.json.gz\n",
    "# i.e. archive for 24 hours on 7/16/18\n",
    "\n",
    "######### CHANGE ME #############\n",
    "# specify date and hours for the archive data; assumes that the data are downloaded in the given path\n",
    "# also assumes the data is from july, 2018\n",
    "my_path = '/Users/amy/git/MetaGithub/data/' \n",
    "date_start = 16 # inclusive\n",
    "date_end = 17 # exclusive\n",
    "hour_start = 15 # inclusive\n",
    "hour_end = 16 # exclusive\n",
    "#################################\n",
    "\n",
    "events = []\n",
    "\n",
    "# for every date\n",
    "for date in range(date_start, date_end):\n",
    "    \n",
    "    # format date string so that 1 is encoded as '01', etc.\n",
    "    my_date = str(date) if date > 9 else '0'+ str(date)\n",
    "    \n",
    "    # for every hour\n",
    "    for hour in range(hour_start, hour_end):\n",
    "        \n",
    "        with gzip.open('%s2018-07-%s-%d.json.gz' %(my_path, my_date, hour)) as f:\n",
    "            for line in f:\n",
    "                events.append(json.loads(line.strip()))"
   ]
  },
  {
   "cell_type": "code",
   "execution_count": 19,
   "metadata": {},
   "outputs": [],
   "source": [
    "## get all commit comment events\n",
    "comment_events = [event for event in events if event['type'] == 'IssueCommentEvent']\n",
    "\n",
    "# aggregate comments for each repo\n",
    "# maps repo_name --> list of comments made during this time \n",
    "repo2comments = {}\n",
    "\n",
    "for event in comment_events:\n",
    "    \n",
    "    repo_name = event['repo']['name']\n",
    "    comment = event['payload']['comment']['body']\n",
    "    \n",
    "    if repo_name not in repo2comments:\n",
    "        repo2comments[repo_name] = [comment]\n",
    "    else:\n",
    "        repo2comments.get(repo_name).append(comment)\n",
    "    "
   ]
  },
  {
   "cell_type": "code",
   "execution_count": 73,
   "metadata": {},
   "outputs": [
    {
     "name": "stdout",
     "output_type": "stream",
     "text": [
      "0: 'I love you .': 3 Positive\n",
      "1: 'I hate him .': 1 Negative\n",
      "2: 'You are nice .': 3 Positive\n",
      "3: 'He is dumb': 1 Negative\n"
     ]
    }
   ],
   "source": [
    "## initialize stanford NLP server\n",
    "# make sure you have downloaded the stanford nlp package. Try: pip install pycorenlp\n",
    "# before executing this cell, go to your_path/stanford-corenlp-full-2018-02-27/ and run\n",
    "# java -mx5g -cp \"*\" edu.stanford.nlp.pipeline.StanfordCoreNLPServer -timeout 5000\n",
    "\n",
    "nlp = StanfordCoreNLP('http://localhost:9000')\n",
    "\n",
    "\n",
    "# toy example for using stanford NLP\n",
    "res = nlp.annotate(\"I love you. I hate him. You are nice. He is dumb\",\n",
    "                   properties={\n",
    "                       'annotators': 'sentiment',\n",
    "                       'outputFormat': 'json',\n",
    "                       'timeout': 5000,\n",
    "                   })\n",
    "for s in res[\"sentences\"]:\n",
    "    print(\"%d: '%s': %s %s\" % (\n",
    "        s[\"index\"],\n",
    "        \" \".join([t[\"word\"] for t in s[\"tokens\"]]),\n",
    "        s[\"sentimentValue\"], s[\"sentiment\"]))"
   ]
  },
  {
   "cell_type": "code",
   "execution_count": 1,
   "metadata": {
    "scrolled": true
   },
   "outputs": [
    {
     "ename": "SyntaxError",
     "evalue": "'return' outside function (<ipython-input-1-23f20c6eff57>, line 20)",
     "output_type": "error",
     "traceback": [
      "\u001b[0;36m  File \u001b[0;32m\"<ipython-input-1-23f20c6eff57>\"\u001b[0;36m, line \u001b[0;32m20\u001b[0m\n\u001b[0;31m    return\u001b[0m\n\u001b[0m    ^\u001b[0m\n\u001b[0;31mSyntaxError\u001b[0m\u001b[0;31m:\u001b[0m 'return' outside function\n"
     ]
    }
   ],
   "source": [
    "## compute the mean sentiment value for all comments for each repo\n",
    "# this is really slow\n",
    "# sentiment value range: 0 (very negative), 1 (negative), 2 (neutral), 3 (positive), 4 (very positive)\n",
    "\n",
    "# maps repo_name --> average sentiment\n",
    "repo2sentiment = {}\n",
    "repo2ncomments = {}\n",
    "\n",
    "# max number of comments per repo to analyze\n",
    "k = 5\n",
    "\n",
    "time = 5000 # timeout limit in milliseconds \n",
    "\n",
    "i = 0 # count number of repos that have been processed\n",
    "\n",
    "# for every repo\n",
    "for repo_name in repo2comments.keys():\n",
    "    \n",
    "    # track progress\n",
    "    if i % 50 == 0:\n",
    "        print(i)\n",
    "    \n",
    "    # init count dictionary\n",
    "    count = {'0':0, '1':0, '2':0, '3':0, '4':0}\n",
    "    \n",
    "    # subsample issue comments: if the total is <=k, take all comments; else randomly select k comments\n",
    "    comments = repo2comments[repo_name]\n",
    "    \n",
    "    if len(comments) > k:\n",
    "        comments = random.sample(comments, k)\n",
    "        \n",
    "    n_comments = 0 # number of issue comments that returns sentiment value\n",
    "    \n",
    "    # for every comment in the repository\n",
    "    for comment in comments:\n",
    "        \n",
    "        # run sentiment analysis\n",
    "        res = nlp.annotate(comment, properties={'annotators': 'sentiment', 'outputFormat': 'json', 'timeout': time})\n",
    "\n",
    "        # skip if timeout has occurred\n",
    "        if res == 'CoreNLP request timed out. Your document may be too long.':\n",
    "            continue\n",
    "            \n",
    "        # add up sentiment values\n",
    "        for s in res[\"sentences\"]:\n",
    "            count[s[\"sentimentValue\"]] += 1\n",
    "            \n",
    "        # increment \n",
    "        n_comments += 1\n",
    "\n",
    "        \n",
    "    # set dicitonary\n",
    "    repo2sentiment[repo_name] = count\n",
    "    repo2ncomments[repo_name] = n_comments\n",
    "    \n",
    "    i += 1\n",
    "\n"
   ]
  },
  {
   "cell_type": "code",
   "execution_count": 74,
   "metadata": {},
   "outputs": [
    {
     "data": {
      "text/html": [
       "<div>\n",
       "<style>\n",
       "    .dataframe thead tr:only-child th {\n",
       "        text-align: right;\n",
       "    }\n",
       "\n",
       "    .dataframe thead th {\n",
       "        text-align: left;\n",
       "    }\n",
       "\n",
       "    .dataframe tbody tr th {\n",
       "        vertical-align: top;\n",
       "    }\n",
       "</style>\n",
       "<table border=\"1\" class=\"dataframe\">\n",
       "  <thead>\n",
       "    <tr style=\"text-align: right;\">\n",
       "      <th></th>\n",
       "      <th>avg_sentiment</th>\n",
       "      <th>n_comments</th>\n",
       "      <th>repo_name</th>\n",
       "    </tr>\n",
       "  </thead>\n",
       "  <tbody>\n",
       "    <tr>\n",
       "      <th>0</th>\n",
       "      <td>1.5</td>\n",
       "      <td>5</td>\n",
       "      <td>CLARIAH/wp5_mediasuite</td>\n",
       "    </tr>\n",
       "    <tr>\n",
       "      <th>1</th>\n",
       "      <td>1.0</td>\n",
       "      <td>1</td>\n",
       "      <td>querydsl/querydsl</td>\n",
       "    </tr>\n",
       "    <tr>\n",
       "      <th>2</th>\n",
       "      <td>1.0</td>\n",
       "      <td>3</td>\n",
       "      <td>stryker-mutator/stryker</td>\n",
       "    </tr>\n",
       "  </tbody>\n",
       "</table>\n",
       "</div>"
      ],
      "text/plain": [
       "   avg_sentiment  n_comments                repo_name\n",
       "0            1.5           5   CLARIAH/wp5_mediasuite\n",
       "1            1.0           1        querydsl/querydsl\n",
       "2            1.0           3  stryker-mutator/stryker"
      ]
     },
     "execution_count": 74,
     "metadata": {},
     "output_type": "execute_result"
    }
   ],
   "source": [
    "# make data frame with the following columns: repo_name, n_commit_comments, avg_sentiment\n",
    "names = []\n",
    "avg_sent = []\n",
    "n_comments = []\n",
    "for repo_name in repo2sentiment.keys():\n",
    "    \n",
    "    # name of repo\n",
    "    names.append(repo_name)\n",
    "    \n",
    "    # count of each sentiment value\n",
    "    count = repo2sentiment[repo_name]\n",
    "    \n",
    "    # compute avg sentiment \n",
    "    total_sum = 0\n",
    "    n = 0\n",
    "    for key in count:\n",
    "        total_sum += (count[key] * int(key))\n",
    "        n += count[key]\n",
    "    if n != 0:\n",
    "        avg_sent.append(total_sum / n)\n",
    "    else:\n",
    "        avg_sent.append(None)\n",
    "    \n",
    "    # number of issue comments for this repo\n",
    "    n_comments.append(repo2ncomments[repo_name])\n",
    "    \n",
    "df = pd.DataFrame({'repo_name': names, 'n_comments': n_comments, 'avg_sentiment':avg_sent})\n",
    "df.head()"
   ]
  },
  {
   "cell_type": "code",
   "execution_count": 75,
   "metadata": {},
   "outputs": [],
   "source": [
    "# save dataframe as csv file\n",
    "out_path = '/Users/amy/git/MetaGithub/sentiment.2018.7.16.15.csv'\n",
    "df.to_csv(out_path)"
   ]
  },
  {
   "cell_type": "code",
   "execution_count": null,
   "metadata": {},
   "outputs": [],
   "source": []
  }
 ],
 "metadata": {
  "kernelspec": {
   "display_name": "Python 3",
   "language": "python",
   "name": "python3"
  },
  "language_info": {
   "codemirror_mode": {
    "name": "ipython",
    "version": 3
   },
   "file_extension": ".py",
   "mimetype": "text/x-python",
   "name": "python",
   "nbconvert_exporter": "python",
   "pygments_lexer": "ipython3",
   "version": "3.6.3"
  }
 },
 "nbformat": 4,
 "nbformat_minor": 2
}
