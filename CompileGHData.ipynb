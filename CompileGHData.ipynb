{
 "cells": [
  {
   "cell_type": "code",
   "execution_count": 1,
   "metadata": {},
   "outputs": [],
   "source": [
    "import json\n",
    "import pandas as pd\n",
    "import gzip\n",
    "import numpy as np\n",
    "from sklearn.externals import joblib\n",
    "\n",
    "from collections import Counter"
   ]
  },
  {
   "cell_type": "code",
   "execution_count": 2,
   "metadata": {},
   "outputs": [],
   "source": [
    "events = []\n",
    "# File from: wget http://data.gharchive.org/2018-07-01-15.json.gz\n",
    "with gzip.open('2018-07-01-15.json.gz') as f:\n",
    "    for line in f:\n",
    "        events.append(json.loads(line.strip()))"
   ]
  },
  {
   "cell_type": "code",
   "execution_count": 3,
   "metadata": {},
   "outputs": [],
   "source": [
    "Counter((event['type'] for event in events));"
   ]
  },
  {
   "cell_type": "code",
   "execution_count": 4,
   "metadata": {},
   "outputs": [],
   "source": [
    "issues = [event for event in events if event['type'] == 'IssuesEvent']\n",
    "comments = [event for event in events if event['type'] == 'IssueCommentEvent']\n",
    "CreateEvents = [event for event in events if event['type'] == 'CreateEvent']"
   ]
  },
  {
   "cell_type": "code",
   "execution_count": 5,
   "metadata": {},
   "outputs": [],
   "source": [
    "actors=[]\n",
    "#Hold a list of all the usernames and repo names\n",
    "#This is needed in order to pull README.md files\n",
    "names=[]\n",
    "## pull all of the createEvents in order to get UserID and Repo name for \n",
    "# calls to get Readme Content\n",
    "CreateEvents = [event for event in events if event['type'] == 'CreateEvent']\n",
    "for event in range(1,len(CreateEvents)):\n",
    "    thisEvent= CreateEvents[event]\n",
    "    actors.append(thisEvent['repo'])\n",
    "    for name in range(0,len(actors)):\n",
    "        thisName=actors[name]\n",
    "        names.append(thisName['name'])"
   ]
  },
  {
   "cell_type": "code",
   "execution_count": 6,
   "metadata": {},
   "outputs": [],
   "source": [
    "## gets rid of doubles:\n",
    "names = np.array(names)\n",
    "names = np.unique(names)"
   ]
  },
  {
   "cell_type": "code",
   "execution_count": 7,
   "metadata": {},
   "outputs": [
    {
     "data": {
      "text/plain": [
       "3529"
      ]
     },
     "execution_count": 7,
     "metadata": {},
     "output_type": "execute_result"
    }
   ],
   "source": [
    "from github import Github\n",
    "# First create a Github instance:\n",
    "## I added this line with my authentivcation so that we dont have to keep using our login info\n",
    "## I still have to trouble shoot this but I will do it after the code pulls the readMe files\n",
    "#Probably some time tomorrow.\n",
    "\n",
    "g = Github(\"6efe0a63859ff9f96f2e1b829db3525b33d2f533 \")\n",
    "\n",
    "## This code will pull the README.md files for all of the repos and usernames:\n",
    "readMeFiles=[]\n",
    "for repo in range(0,len(names)):\n",
    "    try:\n",
    "        thisRepo=g.get_repo(names[repo])\n",
    "        readMe=thisRepo.get_contents('README.md')\n",
    "        readMe = readMe.decoded_content\n",
    "    except:\n",
    "        pass\n",
    "        readMe =\"No README.md found.\"\n",
    "    readMeFiles.append(readMe)\n",
    "len(readMeFiles)"
   ]
  },
  {
   "cell_type": "code",
   "execution_count": 55,
   "metadata": {},
   "outputs": [],
   "source": [
    "forks = []\n",
    "watchers = []\n",
    "stargazers = []\n",
    "subscribers = []\n",
    "for repoName in range(0,len(names)):\n",
    "    thisRepo=g.get_repo(names[repoName])\n",
    "    try:\n",
    "        forks.append(thisRepo.forks_count)\n",
    "    except:\n",
    "        forks.append(0)\n",
    "    try:\n",
    "        watchers.append(thisRepo.watchers_count)\n",
    "    except:\n",
    "        watchers.append(0)\n",
    "    try:\n",
    "        stargazers.append(thisRepo.stargazers_count)\n",
    "    except:\n",
    "        stargazers.append(0)\n",
    "    try:\n",
    "        subscribers.append(thisRepo.subscribers_count)\n",
    "    except:\n",
    "        subscribers.append(0)"
   ]
  },
  {
   "cell_type": "code",
   "execution_count": 60,
   "metadata": {},
   "outputs": [],
   "source": [
    "## create a pandas dataframe holding all the variables for tracking the \n",
    "# 'popularity' measures of the repos:\n",
    "readMesAndPopularity = pd.DataFrame(\n",
    "    {'username/repoName': names,\n",
    "     'forks': forks,\n",
    "     'stargazers': stargazers,\n",
    "     'subscribers': subscribers,\n",
    "     'ReadMes': readMeFiles\n",
    "    })"
   ]
  },
  {
   "cell_type": "code",
   "execution_count": 62,
   "metadata": {},
   "outputs": [
    {
     "data": {
      "text/plain": [
       "['readMeFiles.pkl']"
      ]
     },
     "execution_count": 62,
     "metadata": {},
     "output_type": "execute_result"
    }
   ],
   "source": [
    "joblib.dump(readMesAndPopularity, \"readMeFiles.pkl\")"
   ]
  },
  {
   "cell_type": "code",
   "execution_count": 61,
   "metadata": {},
   "outputs": [
    {
     "data": {
      "text/html": [
       "<div>\n",
       "<style scoped>\n",
       "    .dataframe tbody tr th:only-of-type {\n",
       "        vertical-align: middle;\n",
       "    }\n",
       "\n",
       "    .dataframe tbody tr th {\n",
       "        vertical-align: top;\n",
       "    }\n",
       "\n",
       "    .dataframe thead th {\n",
       "        text-align: right;\n",
       "    }\n",
       "</style>\n",
       "<table border=\"1\" class=\"dataframe\">\n",
       "  <thead>\n",
       "    <tr style=\"text-align: right;\">\n",
       "      <th></th>\n",
       "      <th>username/repoName</th>\n",
       "      <th>forks</th>\n",
       "      <th>stargazers</th>\n",
       "      <th>subscribers</th>\n",
       "      <th>ReadMes</th>\n",
       "    </tr>\n",
       "  </thead>\n",
       "  <tbody>\n",
       "    <tr>\n",
       "      <th>0</th>\n",
       "      <td>0day-ci/linux</td>\n",
       "      <td>11</td>\n",
       "      <td>15</td>\n",
       "      <td>6</td>\n",
       "      <td>No README.md found.</td>\n",
       "    </tr>\n",
       "    <tr>\n",
       "      <th>1</th>\n",
       "      <td>0xboobface/ctbrec</td>\n",
       "      <td>0</td>\n",
       "      <td>1</td>\n",
       "      <td>0</td>\n",
       "      <td>b'# CTB Recorder\\n\\nA free recording software ...</td>\n",
       "    </tr>\n",
       "    <tr>\n",
       "      <th>2</th>\n",
       "      <td>100488Dflc/Deep_Learning_Uniandes_DFLC</td>\n",
       "      <td>0</td>\n",
       "      <td>0</td>\n",
       "      <td>0</td>\n",
       "      <td>b'# Deep_Learning_Uniandes_DFLC'</td>\n",
       "    </tr>\n",
       "    <tr>\n",
       "      <th>3</th>\n",
       "      <td>100488Dflc/Deep_Learning_Uniandes_DL</td>\n",
       "      <td>0</td>\n",
       "      <td>0</td>\n",
       "      <td>0</td>\n",
       "      <td>No README.md found.</td>\n",
       "    </tr>\n",
       "    <tr>\n",
       "      <th>4</th>\n",
       "      <td>1206497655/tree</td>\n",
       "      <td>0</td>\n",
       "      <td>0</td>\n",
       "      <td>0</td>\n",
       "      <td>b'\\xef\\xbb\\xbf\\xe5\\x89\\x8d\\xe4\\xba\\x9b\\xe5\\xa4...</td>\n",
       "    </tr>\n",
       "  </tbody>\n",
       "</table>\n",
       "</div>"
      ],
      "text/plain": [
       "                        username/repoName  forks  stargazers  subscribers  \\\n",
       "0                           0day-ci/linux     11          15            6   \n",
       "1                       0xboobface/ctbrec      0           1            0   \n",
       "2  100488Dflc/Deep_Learning_Uniandes_DFLC      0           0            0   \n",
       "3    100488Dflc/Deep_Learning_Uniandes_DL      0           0            0   \n",
       "4                         1206497655/tree      0           0            0   \n",
       "\n",
       "                                             ReadMes  \n",
       "0                                No README.md found.  \n",
       "1  b'# CTB Recorder\\n\\nA free recording software ...  \n",
       "2                   b'# Deep_Learning_Uniandes_DFLC'  \n",
       "3                                No README.md found.  \n",
       "4  b'\\xef\\xbb\\xbf\\xe5\\x89\\x8d\\xe4\\xba\\x9b\\xe5\\xa4...  "
      ]
     },
     "execution_count": 61,
     "metadata": {},
     "output_type": "execute_result"
    }
   ],
   "source": [
    "readMesAndPopularity.head()"
   ]
  },
  {
   "cell_type": "code",
   "execution_count": null,
   "metadata": {},
   "outputs": [],
   "source": [
    "readMeFiles = joblib.load(\"readMeFiles_.pkl\")"
   ]
  },
  {
   "cell_type": "code",
   "execution_count": 46,
   "metadata": {},
   "outputs": [
    {
     "data": {
      "text/plain": [
       "3"
      ]
     },
     "execution_count": 46,
     "metadata": {},
     "output_type": "execute_result"
    }
   ],
   "source": []
  }
 ],
 "metadata": {
  "kernelspec": {
   "display_name": "Python 3",
   "language": "python",
   "name": "python3"
  },
  "language_info": {
   "codemirror_mode": {
    "name": "ipython",
    "version": 3
   },
   "file_extension": ".py",
   "mimetype": "text/x-python",
   "name": "python",
   "nbconvert_exporter": "python",
   "pygments_lexer": "ipython3",
   "version": "3.6.5"
  }
 },
 "nbformat": 4,
 "nbformat_minor": 2
}
