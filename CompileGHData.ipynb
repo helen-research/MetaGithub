{
 "cells": [
  {
   "cell_type": "code",
   "execution_count": 84,
   "metadata": {},
   "outputs": [],
   "source": [
    "import json\n",
    "import pandas as pd\n",
    "import gzip\n",
    "\n",
    "from collections import Counter"
   ]
  },
  {
   "cell_type": "code",
   "execution_count": 85,
   "metadata": {},
   "outputs": [],
   "source": [
    "events = []\n",
    "# File from: wget http://data.gharchive.org/2018-07-01-15.json.gz\n",
    "with gzip.open('MetaGithub/2018-07-01-15.json.gz') as f:\n",
    "    for line in f:\n",
    "        events.append(json.loads(line.strip()))"
   ]
  },
  {
   "cell_type": "code",
   "execution_count": 44,
   "metadata": {},
   "outputs": [],
   "source": [
    "Counter((event['type'] for event in events));"
   ]
  },
  {
   "cell_type": "code",
   "execution_count": 86,
   "metadata": {},
   "outputs": [],
   "source": [
    "issues = [event for event in events if event['type'] == 'IssuesEvent']\n",
    "comments = [event for event in events if event['type'] == 'IssueCommentEvent']\n",
    "CreateEvents = [event for event in events if event['type'] == 'CreateEvent']"
   ]
  },
  {
   "cell_type": "code",
   "execution_count": 87,
   "metadata": {},
   "outputs": [],
   "source": [
    "actors=[]\n",
    "#Hold a list of all the usernames and repo names\n",
    "#This is needed in order to pull README.md files\n",
    "names=[]\n",
    "## pull all of the createEvents in order to get UserID and Repo name for \n",
    "# calls to get Readme Content\n",
    "CreateEvents = [event for event in events if event['type'] == 'CreateEvent']\n",
    "for event in range(1,len(CreateEvents)):\n",
    "    thisEvent= CreateEvents[event]\n",
    "    actors.append(thisEvent['repo'])\n",
    "    for name in range(0,len(actors)):\n",
    "        thisName=actors[name]\n",
    "        names.append(thisName['name'])"
   ]
  },
  {
   "cell_type": "code",
   "execution_count": null,
   "metadata": {},
   "outputs": [],
   "source": [
    "from github import Github\n",
    "# First create a Github instance:\n",
    "## I added this line with my authentivcation so that we dont have to keep using our login info\n",
    "## I still have to trouble shoot this but I will do it after the code pulls the readMe files\n",
    "#Probably some time tomorrow.\n",
    "\n",
    "g = Github(\"6efe0a63859ff9f96f2e1b829db3525b33d2f533\")\n",
    "\n",
    "## This code will pull the README.md files for all of the repos and usernames:\n",
    "readMeFiles=[]\n",
    "for repo in range(0,len(names)):\n",
    "    try:\n",
    "        thisRepo=g.get_repo(names[repo])\n",
    "        readMe=thisRepo.get_contents('README.md')\n",
    "        readMe = readMe.decoded_content\n",
    "    except:\n",
    "        pass\n",
    "        readMe =\"No README.md found.\"\n",
    "    readMeFiles.append(readMe)\n",
    "len(readMeFiles)"
   ]
  },
  {
   "cell_type": "code",
   "execution_count": null,
   "metadata": {},
   "outputs": [],
   "source": [
    "g = Github(\"6efe0a63859ff9f96f2e1b829db3525b33d2f533\")\n",
    "thisRepo=g.get_repo(names[repo])\n",
    "thisRepo"
   ]
  },
  {
   "cell_type": "code",
   "execution_count": null,
   "metadata": {},
   "outputs": [],
   "source": []
  },
  {
   "cell_type": "code",
   "execution_count": null,
   "metadata": {},
   "outputs": [],
   "source": []
  },
  {
   "cell_type": "code",
   "execution_count": null,
   "metadata": {},
   "outputs": [],
   "source": []
  }
 ],
 "metadata": {
  "kernelspec": {
   "display_name": "Python 3",
   "language": "python",
   "name": "python3"
  },
  "language_info": {
   "codemirror_mode": {
    "name": "ipython",
    "version": 3
   },
   "file_extension": ".py",
   "mimetype": "text/x-python",
   "name": "python",
   "nbconvert_exporter": "python",
   "pygments_lexer": "ipython3",
   "version": "3.6.5"
  }
 },
 "nbformat": 4,
 "nbformat_minor": 2
}
