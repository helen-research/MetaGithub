{
 "cells": [
  {
   "cell_type": "code",
   "execution_count": 38,
   "metadata": {},
   "outputs": [],
   "source": [
    "import json\n",
    "import pandas as pd\n",
    "import gzip\n",
    "\n",
    "from collections import Counter"
   ]
  },
  {
   "cell_type": "code",
   "execution_count": 41,
   "metadata": {},
   "outputs": [],
   "source": [
    "events = []\n",
    "# File from: wget http://data.gharchive.org/2018-07-01-15.json.gz\n",
    "with gzip.open('MetaGithub/2018-07-01-15.json.gz') as f:\n",
    "    for line in f:\n",
    "        events.append(json.loads(line.strip()))"
   ]
  },
  {
   "cell_type": "code",
   "execution_count": 44,
   "metadata": {},
   "outputs": [],
   "source": [
    "Counter((event['type'] for event in events));"
   ]
  },
  {
   "cell_type": "code",
   "execution_count": 45,
   "metadata": {},
   "outputs": [],
   "source": [
    "issues = [event for event in events if event['type'] == 'IssuesEvent']\n",
    "comments = [event for event in events if event['type'] == 'IssueCommentEvent']\n",
    "CreateEvents = [event for event in events if event['type'] == 'CreateEvent']"
   ]
  },
  {
   "cell_type": "code",
   "execution_count": 52,
   "metadata": {},
   "outputs": [],
   "source": [
    "actors=[]\n",
    "#Hold a list of all the usernames and repo names\n",
    "#This is needed in order to pull README.md files\n",
    "names=[]\n",
    "## pull all of the createEvents in order to get UserID and Repo name for \n",
    "# calls to get Readme Content\n",
    "CreateEvents = [event for event in events if event['type'] == 'CreateEvent']\n",
    "for event in range(1,len(CreateEvents)):\n",
    "    thisEvent= CreateEvents[event]\n",
    "    actors.append(thisEvent['repo'])\n",
    "    for name in range(0,len(actors)):\n",
    "        thisName=actors[name]\n",
    "        names.append(thisName['name'])"
   ]
  },
  {
   "cell_type": "code",
   "execution_count": 58,
   "metadata": {},
   "outputs": [
    {
     "data": {
      "text/plain": [
       "{'id': '7903170476',\n",
       " 'type': 'CreateEvent',\n",
       " 'actor': {'id': 40721477,\n",
       "  'login': 'okaysage',\n",
       "  'display_login': 'okaysage',\n",
       "  'gravatar_id': '',\n",
       "  'url': 'https://api.github.com/users/okaysage',\n",
       "  'avatar_url': 'https://avatars.githubusercontent.com/u/40721477?'},\n",
       " 'repo': {'id': 139338168,\n",
       "  'name': 'okaysage/vector',\n",
       "  'url': 'https://api.github.com/repos/okaysage/vector'},\n",
       " 'payload': {'ref': None,\n",
       "  'ref_type': 'repository',\n",
       "  'master_branch': 'master',\n",
       "  'description': None,\n",
       "  'pusher_type': 'user'},\n",
       " 'public': True,\n",
       " 'created_at': '2018-07-01T15:00:00Z'}"
      ]
     },
     "execution_count": 58,
     "metadata": {},
     "output_type": "execute_result"
    }
   ],
   "source": [
    "CreateEvents[1]"
   ]
  },
  {
   "cell_type": "code",
   "execution_count": 61,
   "metadata": {},
   "outputs": [
    {
     "data": {
      "text/plain": [
       "'Rsaliu/Quiz-App'"
      ]
     },
     "execution_count": 61,
     "metadata": {},
     "output_type": "execute_result"
    }
   ],
   "source": [
    "## I still need to use regex to parse the usernames and repo names\n",
    "testNames=names[:10]\n",
    "testNames[2]"
   ]
  },
  {
   "cell_type": "code",
   "execution_count": 62,
   "metadata": {},
   "outputs": [
    {
     "data": {
      "text/plain": [
       "b'## Project Title\\n###### Nigeria Quiz App (Google Africa Challenge Scholarship)\\n\\n## Prerequisites\\n###### The software can run on minimum of android API level 9 (Gingerbread) and is targeted at API level 24 (Marshhmallow)\\n\\n## Installing\\n\\n###### The APK file can be downloaded at https://drive.google.com/open?id=11aftgu7d-FYVpIzPCj27ClLc09aKrzuY\\n\\n## Built With\\n\\n###### Android Studio 2.1.2\\n\\n## Versioning\\n\\n###### This is version 1.0.0 of this software\\n\\n## Authors\\n###### Saliu Rilwan Adebayo\\n\\n## Acknowledgments\\n###### Hat tip to anyone whose code was used\\n###### Google Africa Challenge Scholarship\\n###### Udacity\\n###### etc\\n\\n'"
      ]
     },
     "execution_count": 62,
     "metadata": {},
     "output_type": "execute_result"
    }
   ],
   "source": [
    "from github import Github\n",
    "# First create a Github instance:\n",
    "# I will change this to token access soon; right now you can see how the \n",
    "# code works by entering : g = Github(\"username\", \"password\")\n",
    "g = Github(\"username\", \"password\")\n",
    "\n",
    "## This code will pull the README.md files for all of the repos and usernames:\n",
    "# I need to write exceptions for when the repo is empty, as well as when the \n",
    "#repo does not have a README.md file (some repos have just README with no\n",
    "#extension)\n",
    "# For an example of each of these scenarios use testNames[1] to see error outpur\n",
    "# and use testNames[2] to see the contents of a usable README.md\n",
    "thisRepo=g.get_repo(testNames[2])\n",
    "thisRepo\n",
    "readMe=thisRepo.get_contents('README.md')\n",
    "#print(readMe)\n",
    "type(readMe)\n",
    "readMe.decoded_content"
   ]
  }
 ],
 "metadata": {
  "kernelspec": {
   "display_name": "Python 3",
   "language": "python",
   "name": "python3"
  },
  "language_info": {
   "codemirror_mode": {
    "name": "ipython",
    "version": 3
   },
   "file_extension": ".py",
   "mimetype": "text/x-python",
   "name": "python",
   "nbconvert_exporter": "python",
   "pygments_lexer": "ipython3",
   "version": "3.6.5"
  }
 },
 "nbformat": 4,
 "nbformat_minor": 2
}
