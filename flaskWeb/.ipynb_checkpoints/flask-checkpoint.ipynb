{
 "cells": [
  {
   "cell_type": "code",
   "execution_count": 1,
   "metadata": {},
   "outputs": [],
   "source": [
    "import pandas as pd\n",
    "import numpy as np\n",
    "import scipy.sparse as sp\n",
    "from scipy.sparse.linalg import spsolve\n",
    "import random\n",
    "import json\n",
    "import pdb\n",
    "import pickle\n",
    "\n",
    "from sklearn.preprocessing import MinMaxScaler\n",
    "\n",
    "import implicit # The Cython library\n",
    "from flask import Flask"
   ]
  },
  {
   "cell_type": "code",
   "execution_count": 2,
   "metadata": {},
   "outputs": [],
   "source": [
    "# load data\n",
    "model = pickle.load(open(\"/Users/amy/git/MetaGithub/cf_recommender.model\",'rb'))\n",
    "data = pickle.load(open(\"/Users/amy/git/MetaGithub/cf_recommender.df\", 'rb'))\n"
   ]
  },
  {
   "cell_type": "code",
   "execution_count": 5,
   "metadata": {},
   "outputs": [],
   "source": [
    "def get_similar_repos(model, data, repo_name):\n",
    "    repo_name = 'Bigkoo/Android-PickerView'\n",
    "    repo_idx = data.repo_id[data.repo == repo_name]\n",
    "    \n",
    "    # repo does not exist\n",
    "    if len(repo_idx) == 0:\n",
    "        return(\"Repository %s does not exist in our recommender system.\")\n",
    "    \n",
    "    # get similar items\n",
    "    repo_idx = repo_idx.iloc[0]\n",
    "    similar = model.similar_items(repo_idx)\n",
    "    \n",
    "    my_string = \"\"\n",
    "    \n",
    "    for item in similar:\n",
    "        idx, score = item\n",
    "        my_string += '%s\\t%.5f\\n' %(data.repo[data.repo_id == idx].iloc[0], score)\n",
    "            \n",
    "    #print(my_string)\n",
    "    return my_string\n",
    "        \n",
    "    "
   ]
  },
  {
   "cell_type": "code",
   "execution_count": 4,
   "metadata": {},
   "outputs": [
    {
     "name": "stdout",
     "output_type": "stream",
     "text": [
      "Bigkoo/Android-PickerView\t1.00000\n",
      "CymChad/BaseRecyclerViewAdapterHelper\t0.93986\n",
      "PhilJay/MPAndroidChart\t0.93609\n",
      "bumptech/glide\t0.87561\n",
      "codepath/android_guides\t0.85859\n",
      "ReactiveX/RxAndroid\t0.85262\n",
      "JessYanCoding/MVPArms\t0.83324\n",
      "google/dagger\t0.83246\n",
      "googlesamples/android-architecture\t0.83187\n",
      "JakeWharton/butterknife\t0.82695\n",
      "\n"
     ]
    },
    {
     "data": {
      "text/plain": [
       "'Bigkoo/Android-PickerView\\t1.00000\\nCymChad/BaseRecyclerViewAdapterHelper\\t0.93986\\nPhilJay/MPAndroidChart\\t0.93609\\nbumptech/glide\\t0.87561\\ncodepath/android_guides\\t0.85859\\nReactiveX/RxAndroid\\t0.85262\\nJessYanCoding/MVPArms\\t0.83324\\ngoogle/dagger\\t0.83246\\ngooglesamples/android-architecture\\t0.83187\\nJakeWharton/butterknife\\t0.82695\\n'"
      ]
     },
     "execution_count": 4,
     "metadata": {},
     "output_type": "execute_result"
    }
   ],
   "source": [
    "get_similar_repos(model, data, 'Bigkoo/Android-PickerView')"
   ]
  },
  {
   "cell_type": "code",
   "execution_count": 23,
   "metadata": {},
   "outputs": [],
   "source": [
    "app = Flask(__name__)\n",
    "\n",
    "@app.route(\"/\")\n",
    "def run_model():\n",
    "    get_similar_repos(model, data, 'Bigkoo/Android-PickerView')"
   ]
  },
  {
   "cell_type": "code",
   "execution_count": null,
   "metadata": {},
   "outputs": [],
   "source": []
  }
 ],
 "metadata": {
  "kernelspec": {
   "display_name": "Python 3",
   "language": "python",
   "name": "python3"
  },
  "language_info": {
   "codemirror_mode": {
    "name": "ipython",
    "version": 3
   },
   "file_extension": ".py",
   "mimetype": "text/x-python",
   "name": "python",
   "nbconvert_exporter": "python",
   "pygments_lexer": "ipython3",
   "version": "3.6.3"
  }
 },
 "nbformat": 4,
 "nbformat_minor": 2
}
