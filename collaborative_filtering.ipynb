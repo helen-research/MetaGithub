{
 "cells": [
  {
   "cell_type": "code",
   "execution_count": 100,
   "metadata": {},
   "outputs": [],
   "source": [
    "import sys\n",
    "import pandas as pd\n",
    "import numpy as np\n",
    "import scipy.sparse as sp\n",
    "from scipy.sparse.linalg import spsolve\n",
    "import random\n",
    "import gzip\n",
    "import json\n",
    "import pdb\n",
    "\n",
    "from sklearn.preprocessing import MinMaxScaler\n",
    "\n",
    "import implicit # The Cython library"
   ]
  },
  {
   "cell_type": "code",
   "execution_count": 117,
   "metadata": {},
   "outputs": [],
   "source": [
    "# load toy example\n",
    "# File from: wget http://data.gharchive.org/2018-07-16-15.json.gz\n",
    "\n",
    "events = []\n",
    "for hour in range(10, 16):\n",
    "    with gzip.open('/Users/amy/git/MetaGithub/data/2018-07-16-%d.json.gz' %hour) as f:\n",
    "        for line in f:\n",
    "            events.append(json.loads(line.strip()))"
   ]
  },
  {
   "cell_type": "code",
   "execution_count": 118,
   "metadata": {},
   "outputs": [],
   "source": [
    "# get all watch events\n",
    "# The WatchEvent corresponds to starring a repository, not watching. \n",
    "star_events = [event for event in events if event['type'] == 'WatchEvent']\n",
    "\n",
    "# count how many times each repo was starred during this time\n",
    "# maps repo name to count of star events\n",
    "repo2count = {}\n",
    "\n",
    "for event in star_events:\n",
    "    \n",
    "    repo_name = event['repo']['name']\n",
    "    \n",
    "    if repo_name not in repo2count:\n",
    "        repo2count[repo_name] = 1\n",
    "    else:\n",
    "        repo2count[repo_name] += 1\n",
    "\n"
   ]
  },
  {
   "cell_type": "code",
   "execution_count": 136,
   "metadata": {},
   "outputs": [
    {
     "data": {
      "text/plain": [
       "239"
      ]
     },
     "execution_count": 136,
     "metadata": {},
     "output_type": "execute_result"
    }
   ],
   "source": [
    "# record the names of repos that were starred more than k times during this time\n",
    "# i.e. get popular repos during this time period\n",
    "# we can change this code to find the top xx repos instead, etc.\n",
    "\n",
    "popular_repos = []\n",
    "k = 10 # this was chosen arbitrarily \n",
    "\n",
    "for repo_name in repo2count:\n",
    "    if repo2count[repo_name] > k:\n",
    "        popular_repos.append(repo_name)\n",
    "        \n",
    "len(popular_repos)"
   ]
  },
  {
   "cell_type": "code",
   "execution_count": 137,
   "metadata": {},
   "outputs": [
    {
     "data": {
      "text/plain": [
       "3562"
      ]
     },
     "execution_count": 137,
     "metadata": {},
     "output_type": "execute_result"
    }
   ],
   "source": [
    "# user2repo: user to list of repo they've starred\n",
    "# only process users who have interacted with the popular repos\n",
    "\n",
    "# aggregate starred repos for each user\n",
    "user2repo = {} # maps user name to list of repo names they've starred\n",
    "repos = set() # set of all repos that were starred\n",
    "\n",
    "\n",
    "popular_repos = set(popular_repos)\n",
    "\n",
    "for event in star_events:\n",
    "    \n",
    "    repo_name = event['repo']['name']\n",
    "    user_name = event['actor']['login']\n",
    "\n",
    "    # skip star event if the repo is not popular\n",
    "    if repo_name not in popular_repos:\n",
    "        continue\n",
    "    \n",
    "    # for new user, initialize repo list\n",
    "    if user_name not in user2repo:\n",
    "        user2repo[user_name] = [repo_name]\n",
    "    else:\n",
    "        user2repo.get(user_name).append(repo_name)\n",
    "        \n",
    "\n",
    "len(user2repo)"
   ]
  },
  {
   "cell_type": "code",
   "execution_count": 138,
   "metadata": {},
   "outputs": [
    {
     "data": {
      "text/plain": [
       "407"
      ]
     },
     "execution_count": 138,
     "metadata": {},
     "output_type": "execute_result"
    }
   ],
   "source": [
    "# filter out users who starred < min_n or > max_n repos\n",
    "\n",
    "good_users = set()\n",
    "min_n = 2\n",
    "max_n = 10\n",
    "\n",
    "for user, repo_list in user2repo.items():\n",
    "    \n",
    "    if len(repo_list) < min_n or len(repo_list) > max_n:\n",
    "        continue\n",
    "    \n",
    "    good_users.add(user)\n",
    "    \n",
    "len(good_users)"
   ]
  },
  {
   "cell_type": "code",
   "execution_count": 139,
   "metadata": {},
   "outputs": [
    {
     "data": {
      "text/plain": [
       "1026"
      ]
     },
     "execution_count": 139,
     "metadata": {},
     "output_type": "execute_result"
    }
   ],
   "source": [
    "# make dataframe: user, pop_repo, n_star\n",
    "users = []\n",
    "repos = []\n",
    "\n",
    "for user, repo_list in user2repo.items():\n",
    "    \n",
    "    # skip if not in good users\n",
    "    if user not in good_users:\n",
    "        continue\n",
    "\n",
    "\n",
    "    repos += [repo for repo in repo_list]\n",
    "    users += [user for i in range(0, len(repo_list))]\n",
    "\n",
    "\n",
    "stars = [1 for i in range(0, len(users))]\n",
    "\n",
    "len(users)"
   ]
  },
  {
   "cell_type": "code",
   "execution_count": 140,
   "metadata": {},
   "outputs": [
    {
     "data": {
      "text/plain": [
       "(104, 407)"
      ]
     },
     "execution_count": 140,
     "metadata": {},
     "output_type": "execute_result"
    }
   ],
   "source": [
    "raw_data = pd.DataFrame({'user':users, 'repo':repos, 'star':stars})\n",
    "\n",
    "raw_data.head()\n",
    "\n",
    "data = raw_data.dropna()\n",
    "data = data.copy()\n",
    "\n",
    "# Create a numeric user_id and repo_id column\n",
    "data['user'] = data['user'].astype(\"category\")\n",
    "data['repo'] = data['repo'].astype(\"category\")\n",
    "data['user_id'] = data['user'].cat.codes\n",
    "data['repo_id'] = data['repo'].cat.codes\n",
    "\n",
    "item_user_data = sp.csr_matrix((data['star'].astype(float), (data['repo_id'], data['user_id'])))\n",
    "item_user_data.shape"
   ]
  },
  {
   "cell_type": "code",
   "execution_count": 148,
   "metadata": {},
   "outputs": [
    {
     "data": {
      "text/html": [
       "<div>\n",
       "<style>\n",
       "    .dataframe thead tr:only-child th {\n",
       "        text-align: right;\n",
       "    }\n",
       "\n",
       "    .dataframe thead th {\n",
       "        text-align: left;\n",
       "    }\n",
       "\n",
       "    .dataframe tbody tr th {\n",
       "        vertical-align: top;\n",
       "    }\n",
       "</style>\n",
       "<table border=\"1\" class=\"dataframe\">\n",
       "  <thead>\n",
       "    <tr style=\"text-align: right;\">\n",
       "      <th></th>\n",
       "      <th>repo</th>\n",
       "      <th>star</th>\n",
       "      <th>user</th>\n",
       "      <th>user_id</th>\n",
       "      <th>repo_id</th>\n",
       "    </tr>\n",
       "  </thead>\n",
       "  <tbody>\n",
       "    <tr>\n",
       "      <th>0</th>\n",
       "      <td>phobal/ivideo</td>\n",
       "      <td>1</td>\n",
       "      <td>springlo</td>\n",
       "      <td>322</td>\n",
       "      <td>73</td>\n",
       "    </tr>\n",
       "    <tr>\n",
       "      <th>1</th>\n",
       "      <td>BradLarson/GPUImage3</td>\n",
       "      <td>1</td>\n",
       "      <td>springlo</td>\n",
       "      <td>322</td>\n",
       "      <td>0</td>\n",
       "    </tr>\n",
       "    <tr>\n",
       "      <th>2</th>\n",
       "      <td>kamranahmedse/developer-roadmap</td>\n",
       "      <td>1</td>\n",
       "      <td>i23591326</td>\n",
       "      <td>177</td>\n",
       "      <td>62</td>\n",
       "    </tr>\n",
       "    <tr>\n",
       "      <th>3</th>\n",
       "      <td>adam-golab/react-developer-roadmap</td>\n",
       "      <td>1</td>\n",
       "      <td>i23591326</td>\n",
       "      <td>177</td>\n",
       "      <td>15</td>\n",
       "    </tr>\n",
       "    <tr>\n",
       "      <th>4</th>\n",
       "      <td>getify/You-Dont-Know-JS</td>\n",
       "      <td>1</td>\n",
       "      <td>i23591326</td>\n",
       "      <td>177</td>\n",
       "      <td>47</td>\n",
       "    </tr>\n",
       "  </tbody>\n",
       "</table>\n",
       "</div>"
      ],
      "text/plain": [
       "                                 repo  star       user  user_id  repo_id\n",
       "0                       phobal/ivideo     1   springlo      322       73\n",
       "1                BradLarson/GPUImage3     1   springlo      322        0\n",
       "2     kamranahmedse/developer-roadmap     1  i23591326      177       62\n",
       "3  adam-golab/react-developer-roadmap     1  i23591326      177       15\n",
       "4             getify/You-Dont-Know-JS     1  i23591326      177       47"
      ]
     },
     "execution_count": 148,
     "metadata": {},
     "output_type": "execute_result"
    }
   ],
   "source": [
    "data.head()"
   ]
  },
  {
   "cell_type": "code",
   "execution_count": 145,
   "metadata": {},
   "outputs": [],
   "source": [
    "import pickle\n",
    "pickle.dump(item_user_data, open(\"/Users/amy/git/MetaGithub/item_user_matrix.5hrs.csr\", \"wb\"))\n",
    "pickle.dump(data, open(\"/Users/amy/git/MetaGithub/item_user_matrix.5hrs.df\", \"wb\"))"
   ]
  },
  {
   "cell_type": "code",
   "execution_count": 127,
   "metadata": {},
   "outputs": [
    {
     "name": "stderr",
     "output_type": "stream",
     "text": [
      "100%|██████████| 50.0/50 [00:00<00:00, 793.62it/s]\n"
     ]
    }
   ],
   "source": [
    "# initialize model\n",
    "model = implicit.als.AlternatingLeastSquares(factors=50, regularization=0.01, iterations=50)\n",
    "\n",
    "# Calculate the confidence by multiplying it by our alpha value.\n",
    "alpha_val = 40\n",
    "data_conf = (item_user_data * alpha_val).astype('double')\n",
    "\n",
    "# Fit the model\n",
    "model.fit(data_conf)"
   ]
  },
  {
   "cell_type": "code",
   "execution_count": 141,
   "metadata": {},
   "outputs": [
    {
     "name": "stdout",
     "output_type": "stream",
     "text": [
      "BradLarson/GPUImage3\n",
      "google/compare_gan\n",
      "tpn/pdfs\n",
      "serhii-londar/open-source-mac-os-apps\n",
      "xiaqunfeng/machine-learning-yearning\n",
      "hnes/libaco\n",
      "andymass/vim-tradewinds\n",
      "polachok/toykio\n",
      "nhnent/tui.image-editor\n",
      "ant-design/ant-design\n"
     ]
    }
   ],
   "source": [
    "# find similar repos\n",
    "similar = model.similar_items(0)\n",
    "\n",
    "for item in similar:\n",
    "    idx, score = item\n",
    "    print(data.repo[data.repo_id == idx].iloc[0])\n",
    "\n"
   ]
  },
  {
   "cell_type": "code",
   "execution_count": null,
   "metadata": {},
   "outputs": [],
   "source": []
  }
 ],
 "metadata": {
  "kernelspec": {
   "display_name": "Python 3",
   "language": "python",
   "name": "python3"
  },
  "language_info": {
   "codemirror_mode": {
    "name": "ipython",
    "version": 3
   },
   "file_extension": ".py",
   "mimetype": "text/x-python",
   "name": "python",
   "nbconvert_exporter": "python",
   "pygments_lexer": "ipython3",
   "version": "3.6.3"
  }
 },
 "nbformat": 4,
 "nbformat_minor": 2
}
