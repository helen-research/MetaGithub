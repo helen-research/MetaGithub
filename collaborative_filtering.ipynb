{
 "cells": [
  {
   "cell_type": "code",
   "execution_count": 270,
   "metadata": {},
   "outputs": [],
   "source": [
    "import sys\n",
    "import pandas as pd\n",
    "import numpy as np\n",
    "import scipy.sparse as sp\n",
    "from scipy.sparse.linalg import spsolve\n",
    "import random\n",
    "import gzip\n",
    "import json\n",
    "import pdb\n",
    "\n",
    "from sklearn.preprocessing import MinMaxScaler\n",
    "\n",
    "import implicit # The Cython library"
   ]
  },
  {
   "cell_type": "code",
   "execution_count": 275,
   "metadata": {},
   "outputs": [
    {
     "data": {
      "text/plain": [
       "641396"
      ]
     },
     "execution_count": 275,
     "metadata": {},
     "output_type": "execute_result"
    }
   ],
   "source": [
    "# load toy example\n",
    "# File from: wget http://data.gharchive.org/2018-07-16-15.json.gz\n",
    "star_events = []\n",
    "\n",
    "for date in range(16, 23):\n",
    "    \n",
    "    # format date string so that 1 is encoded as '01', etc.\n",
    "    my_date = str(date) if date > 9 else '0'+ str(date)\n",
    "\n",
    "    for hour in range(0, 23):\n",
    "        with gzip.open('/Users/amy/git/MetaGithub/data/2018-07-%s-%d.json.gz' %(my_date, hour)) as f:\n",
    "            for line in f:\n",
    "                fields = json.loads(line.strip())\n",
    "                if fields['type'] == 'WatchEvent':\n",
    "                    star_events.append(fields)\n",
    "                \n",
    "len(star_events)"
   ]
  },
  {
   "cell_type": "code",
   "execution_count": 276,
   "metadata": {},
   "outputs": [
    {
     "data": {
      "text/plain": [
       "207329"
      ]
     },
     "execution_count": 276,
     "metadata": {},
     "output_type": "execute_result"
    }
   ],
   "source": [
    "# count how many times each repo was starred during this time\n",
    "# maps repo name to count of star events\n",
    "repo2count = {}\n",
    "\n",
    "for event in star_events:\n",
    "    \n",
    "    repo_name = event['repo']['name']\n",
    "    \n",
    "    if repo_name not in repo2count:\n",
    "        repo2count[repo_name] = 1\n",
    "    else:\n",
    "        repo2count[repo_name] += 1\n",
    "\n",
    "len(repo2count)"
   ]
  },
  {
   "cell_type": "code",
   "execution_count": 435,
   "metadata": {},
   "outputs": [
    {
     "data": {
      "text/plain": [
       "1165"
      ]
     },
     "execution_count": 435,
     "metadata": {},
     "output_type": "execute_result"
    }
   ],
   "source": [
    "# record the names of repos that were starred more than k times during this time\n",
    "# i.e. get popular repos during this time period\n",
    "# we can change this code to find the top xx repos instead, etc.\n",
    "\n",
    "k = 50 # this was chosen arbitrarily \n",
    "popular_repos = [repo for repo, count in repo2count.items() if count > k]\n",
    "     \n",
    "len(popular_repos)"
   ]
  },
  {
   "cell_type": "code",
   "execution_count": 440,
   "metadata": {},
   "outputs": [],
   "source": [
    "#popular_repos\n",
    "df = pd.Series(popular_repos)\n",
    "df.to_csv(\"/Users/amy/git/MetaGithub/popular_repos.csv\")"
   ]
  },
  {
   "cell_type": "code",
   "execution_count": 390,
   "metadata": {},
   "outputs": [
    {
     "data": {
      "text/plain": [
       "94654"
      ]
     },
     "execution_count": 390,
     "metadata": {},
     "output_type": "execute_result"
    }
   ],
   "source": [
    "# user2repo: user to list of repo they've starred\n",
    "# only process users who have interacted with the popular repos\n",
    "\n",
    "# aggregate starred repos for each user\n",
    "user2repo = {} # maps user name to list of repo names they've starred\n",
    "\n",
    "for event in star_events:\n",
    "    \n",
    "    repo_name = event['repo']['name']\n",
    "    user_name = event['actor']['login']\n",
    "\n",
    "    # skip star event if the repo is not popular\n",
    "    if repo_name not in popular_repos:\n",
    "        continue\n",
    "    \n",
    "    # for new user, initialize repo list\n",
    "    if user_name not in user2repo:\n",
    "        user2repo[user_name] = [repo_name]\n",
    "    else:\n",
    "        user2repo.get(user_name).append(repo_name)\n",
    "        \n",
    "\n",
    "len(user2repo)"
   ]
  },
  {
   "cell_type": "code",
   "execution_count": 391,
   "metadata": {},
   "outputs": [
    {
     "data": {
      "text/plain": [
       "5860"
      ]
     },
     "execution_count": 391,
     "metadata": {},
     "output_type": "execute_result"
    }
   ],
   "source": [
    "# filter out users who starred < min_n or > max_n repos\n",
    "# i.e. filter out users that star too few or too many things\n",
    "\n",
    "min_n = 3\n",
    "max_n = 20\n",
    "\n",
    "good_users = set([user for user, repo_list in user2repo.items() if len(repo_list) > min_n and len(repo_list) < max_n])\n",
    "\n",
    "len(good_users)"
   ]
  },
  {
   "cell_type": "code",
   "execution_count": 392,
   "metadata": {},
   "outputs": [
    {
     "data": {
      "text/plain": [
       "33019"
      ]
     },
     "execution_count": 392,
     "metadata": {},
     "output_type": "execute_result"
    }
   ],
   "source": [
    "# make dataframe: user, pop_repo, n_star\n",
    "users = []\n",
    "repos = []\n",
    "\n",
    "for user, repo_list in user2repo.items():\n",
    "    \n",
    "    # skip if not in good users\n",
    "    if user not in good_users:\n",
    "        continue\n",
    "\n",
    "\n",
    "    repos += [repo for repo in repo_list]\n",
    "    users += [user for i in range(0, len(repo_list))]\n",
    "\n",
    "\n",
    "stars = [1 for i in range(0, len(users))]\n",
    "\n",
    "len(users)"
   ]
  },
  {
   "cell_type": "code",
   "execution_count": 393,
   "metadata": {},
   "outputs": [
    {
     "data": {
      "text/plain": [
       "(1160, 5860)"
      ]
     },
     "execution_count": 393,
     "metadata": {},
     "output_type": "execute_result"
    }
   ],
   "source": [
    "raw_data = pd.DataFrame({'user':users, 'repo':repos, 'star':stars})\n",
    "\n",
    "raw_data.head()\n",
    "\n",
    "data = raw_data.dropna()\n",
    "data = data.copy()\n",
    "\n",
    "# Create a numeric user_id and repo_id column\n",
    "data['user'] = data['user'].astype(\"category\")\n",
    "data['repo'] = data['repo'].astype(\"category\")\n",
    "data['user_id'] = data['user'].cat.codes\n",
    "data['repo_id'] = data['repo'].cat.codes\n",
    "\n",
    "item_user_data = sp.csr_matrix((data['star'].astype(float), (data['repo_id'], data['user_id'])))\n",
    "item_user_data.shape"
   ]
  },
  {
   "cell_type": "code",
   "execution_count": 356,
   "metadata": {},
   "outputs": [
    {
     "data": {
      "text/html": [
       "<div>\n",
       "<style>\n",
       "    .dataframe thead tr:only-child th {\n",
       "        text-align: right;\n",
       "    }\n",
       "\n",
       "    .dataframe thead th {\n",
       "        text-align: left;\n",
       "    }\n",
       "\n",
       "    .dataframe tbody tr th {\n",
       "        vertical-align: top;\n",
       "    }\n",
       "</style>\n",
       "<table border=\"1\" class=\"dataframe\">\n",
       "  <thead>\n",
       "    <tr style=\"text-align: right;\">\n",
       "      <th></th>\n",
       "      <th>repo</th>\n",
       "      <th>star</th>\n",
       "      <th>user</th>\n",
       "      <th>user_id</th>\n",
       "      <th>repo_id</th>\n",
       "    </tr>\n",
       "  </thead>\n",
       "  <tbody>\n",
       "    <tr>\n",
       "      <th>0</th>\n",
       "      <td>laravel/framework</td>\n",
       "      <td>1</td>\n",
       "      <td>imamriyadi</td>\n",
       "      <td>694</td>\n",
       "      <td>430</td>\n",
       "    </tr>\n",
       "    <tr>\n",
       "      <th>1</th>\n",
       "      <td>Microsoft/vscode</td>\n",
       "      <td>1</td>\n",
       "      <td>imamriyadi</td>\n",
       "      <td>694</td>\n",
       "      <td>72</td>\n",
       "    </tr>\n",
       "    <tr>\n",
       "      <th>2</th>\n",
       "      <td>golang/go</td>\n",
       "      <td>1</td>\n",
       "      <td>imamriyadi</td>\n",
       "      <td>694</td>\n",
       "      <td>324</td>\n",
       "    </tr>\n",
       "    <tr>\n",
       "      <th>3</th>\n",
       "      <td>kubernetes/kubernetes</td>\n",
       "      <td>1</td>\n",
       "      <td>imamriyadi</td>\n",
       "      <td>694</td>\n",
       "      <td>426</td>\n",
       "    </tr>\n",
       "    <tr>\n",
       "      <th>4</th>\n",
       "      <td>godotengine/godot</td>\n",
       "      <td>1</td>\n",
       "      <td>imamriyadi</td>\n",
       "      <td>694</td>\n",
       "      <td>319</td>\n",
       "    </tr>\n",
       "  </tbody>\n",
       "</table>\n",
       "</div>"
      ],
      "text/plain": [
       "                    repo  star        user  user_id  repo_id\n",
       "0      laravel/framework     1  imamriyadi      694      430\n",
       "1       Microsoft/vscode     1  imamriyadi      694       72\n",
       "2              golang/go     1  imamriyadi      694      324\n",
       "3  kubernetes/kubernetes     1  imamriyadi      694      426\n",
       "4      godotengine/godot     1  imamriyadi      694      319"
      ]
     },
     "execution_count": 356,
     "metadata": {},
     "output_type": "execute_result"
    }
   ],
   "source": [
    "data.head()"
   ]
  },
  {
   "cell_type": "code",
   "execution_count": 340,
   "metadata": {},
   "outputs": [],
   "source": [
    "#import pickle\n",
    "#pickle.dump(item_user_data, open(\"/Users/amy/git/MetaGithub/item_user_matrix.5hrs.csr\", \"wb\"))\n",
    "#pickle.dump(data, open(\"/Users/amy/git/MetaGithub/item_user_matrix.5hrs.df\", \"wb\"))"
   ]
  },
  {
   "cell_type": "code",
   "execution_count": 433,
   "metadata": {},
   "outputs": [
    {
     "name": "stderr",
     "output_type": "stream",
     "text": [
      "100%|██████████| 50.0/50 [00:00<00:00, 82.62it/s]\n"
     ]
    }
   ],
   "source": [
    "# initialize model\n",
    "# number of latent factors\n",
    "model = implicit.als.AlternatingLeastSquares(factors=50, regularization=0.01, iterations=50)\n",
    "\n",
    "# Calculate the confidence by multiplying it by our alpha value.\n",
    "alpha_val = 15\n",
    "data_conf = (item_user_data * alpha_val).astype('double')\n",
    "\n",
    "# Fit the model\n",
    "model.fit(data_conf)"
   ]
  },
  {
   "cell_type": "code",
   "execution_count": 434,
   "metadata": {},
   "outputs": [
    {
     "name": "stdout",
     "output_type": "stream",
     "text": [
      "('Bigkoo/Android-PickerView', 1.0000001)\n",
      "('CymChad/BaseRecyclerViewAdapterHelper', 0.93985856)\n",
      "('PhilJay/MPAndroidChart', 0.93609178)\n",
      "('bumptech/glide', 0.87561345)\n",
      "('codepath/android_guides', 0.85858792)\n",
      "('ReactiveX/RxAndroid', 0.85261893)\n",
      "('JessYanCoding/MVPArms', 0.83324397)\n",
      "('google/dagger', 0.83246356)\n",
      "('googlesamples/android-architecture', 0.83187306)\n",
      "('JakeWharton/butterknife', 0.82694513)\n"
     ]
    }
   ],
   "source": [
    "# find similar repos\n",
    "similar = model.similar_items(15)\n",
    "min_score = .5\n",
    "\n",
    "for item in similar:\n",
    "    idx, score = item\n",
    "    if score > min_score:\n",
    "        print((data.repo[data.repo_id == idx].iloc[0], score))\n",
    "\n"
   ]
  },
  {
   "cell_type": "code",
   "execution_count": null,
   "metadata": {},
   "outputs": [],
   "source": []
  }
 ],
 "metadata": {
  "kernelspec": {
   "display_name": "Python 3",
   "language": "python",
   "name": "python3"
  },
  "language_info": {
   "codemirror_mode": {
    "name": "ipython",
    "version": 3
   },
   "file_extension": ".py",
   "mimetype": "text/x-python",
   "name": "python",
   "nbconvert_exporter": "python",
   "pygments_lexer": "ipython3",
   "version": "3.6.3"
  }
 },
 "nbformat": 4,
 "nbformat_minor": 2
}
